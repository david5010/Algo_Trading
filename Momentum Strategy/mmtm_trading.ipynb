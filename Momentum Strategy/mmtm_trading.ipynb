{
 "cells": [
  {
   "cell_type": "code",
   "execution_count": 1,
   "id": "cb5af76e",
   "metadata": {},
   "outputs": [],
   "source": [
    "import numpy as np\n",
    "import pandas as pd\n",
    "import requests\n",
    "import math\n",
    "from scipy import stats"
   ]
  },
  {
   "cell_type": "code",
   "execution_count": 2,
   "id": "21cb8acc",
   "metadata": {},
   "outputs": [],
   "source": [
    "stocks = pd.read_csv('../sp_500_stocks.csv')"
   ]
  },
  {
   "cell_type": "code",
   "execution_count": 4,
   "id": "96fe9544",
   "metadata": {},
   "outputs": [],
   "source": [
    "from secrets import IEX_CLOUD_API_TOKEN"
   ]
  },
  {
   "cell_type": "code",
   "execution_count": 16,
   "id": "120c3275",
   "metadata": {},
   "outputs": [],
   "source": [
    "def get_stock_stats(symbol):\n",
    "    api = f'https://sandbox.iexapis.com/stable/stock/{symbol}/stats?token={IEX_CLOUD_API_TOKEN}'"
   ]
  },
  {
   "cell_type": "code",
   "execution_count": 8,
   "id": "0d36c1bc",
   "metadata": {},
   "outputs": [],
   "source": [
    "batches = [stocks[:86]['Ticker'], stocks[86: 192]['Ticker'], stocks[192:277]['Ticker'], stocks[277: 359]['Ticker'], stocks[359: 444]['Ticker'], stocks[444:]['Ticker']]"
   ]
  },
  {
   "cell_type": "code",
   "execution_count": 44,
   "id": "3f69032a",
   "metadata": {},
   "outputs": [],
   "source": [
    "cols = ['Ticker', 'Price', 'One-Year Price Return', '#Shares to buy']\n",
    "dictionary = {col: list() for col in cols}"
   ]
  },
  {
   "cell_type": "code",
   "execution_count": 45,
   "id": "a6db68b0",
   "metadata": {},
   "outputs": [],
   "source": [
    "def batch_calls(tickers):\n",
    "    tickers = ','.join(list(tickers))\n",
    "    batch_url = f\"https://sandbox.iexapis.com/stable/stock/market/batch?symbols={tickers}&types=stats,price&token={IEX_CLOUD_API_TOKEN}\"\n",
    "    data = requests.get(batch_url)\n",
    "    if data.status_code != 200:\n",
    "        return None\n",
    "    return data.json()"
   ]
  },
  {
   "cell_type": "code",
   "execution_count": 46,
   "id": "00040ee0",
   "metadata": {},
   "outputs": [],
   "source": [
    "for batch in batches:\n",
    "    data = batch_calls(batch)\n",
    "    if data:\n",
    "        \n",
    "        for ticker in batch:\n",
    "            if ticker in data:\n",
    "                dictionary['Ticker'].append(ticker)\n",
    "                dictionary['Price'].append(data[ticker]['price'])\n",
    "                dictionary['One-Year Price Return'].append(data[ticker]['stats']['year1ChangePercent'])\n",
    "                dictionary['#Shares to buy'].append('N/A')"
   ]
  },
  {
   "cell_type": "code",
   "execution_count": 47,
   "id": "3c3f80dd",
   "metadata": {},
   "outputs": [],
   "source": [
    "df = pd.DataFrame(dictionary)"
   ]
  },
  {
   "cell_type": "code",
   "execution_count": 48,
   "id": "c310ee7d",
   "metadata": {},
   "outputs": [
    {
     "data": {
      "text/html": [
       "<div>\n",
       "<style scoped>\n",
       "    .dataframe tbody tr th:only-of-type {\n",
       "        vertical-align: middle;\n",
       "    }\n",
       "\n",
       "    .dataframe tbody tr th {\n",
       "        vertical-align: top;\n",
       "    }\n",
       "\n",
       "    .dataframe thead th {\n",
       "        text-align: right;\n",
       "    }\n",
       "</style>\n",
       "<table border=\"1\" class=\"dataframe\">\n",
       "  <thead>\n",
       "    <tr style=\"text-align: right;\">\n",
       "      <th></th>\n",
       "      <th>Ticker</th>\n",
       "      <th>Price</th>\n",
       "      <th>One-Year Price Return</th>\n",
       "      <th>#Shares to buy</th>\n",
       "    </tr>\n",
       "  </thead>\n",
       "  <tbody>\n",
       "    <tr>\n",
       "      <th>0</th>\n",
       "      <td>A</td>\n",
       "      <td>117.40</td>\n",
       "      <td>-0.226322</td>\n",
       "      <td>N/A</td>\n",
       "    </tr>\n",
       "    <tr>\n",
       "      <th>1</th>\n",
       "      <td>AAL</td>\n",
       "      <td>13.60</td>\n",
       "      <td>-0.432962</td>\n",
       "      <td>N/A</td>\n",
       "    </tr>\n",
       "    <tr>\n",
       "      <th>2</th>\n",
       "      <td>AAP</td>\n",
       "      <td>176.89</td>\n",
       "      <td>-0.115770</td>\n",
       "      <td>N/A</td>\n",
       "    </tr>\n",
       "    <tr>\n",
       "      <th>3</th>\n",
       "      <td>AAPL</td>\n",
       "      <td>139.90</td>\n",
       "      <td>0.033275</td>\n",
       "      <td>N/A</td>\n",
       "    </tr>\n",
       "    <tr>\n",
       "      <th>4</th>\n",
       "      <td>ABBV</td>\n",
       "      <td>148.44</td>\n",
       "      <td>0.316735</td>\n",
       "      <td>N/A</td>\n",
       "    </tr>\n",
       "    <tr>\n",
       "      <th>...</th>\n",
       "      <td>...</td>\n",
       "      <td>...</td>\n",
       "      <td>...</td>\n",
       "      <td>...</td>\n",
       "    </tr>\n",
       "    <tr>\n",
       "      <th>490</th>\n",
       "      <td>YUM</td>\n",
       "      <td>115.97</td>\n",
       "      <td>-0.028298</td>\n",
       "      <td>N/A</td>\n",
       "    </tr>\n",
       "    <tr>\n",
       "      <th>491</th>\n",
       "      <td>ZBH</td>\n",
       "      <td>109.34</td>\n",
       "      <td>-0.372407</td>\n",
       "      <td>N/A</td>\n",
       "    </tr>\n",
       "    <tr>\n",
       "      <th>492</th>\n",
       "      <td>ZBRA</td>\n",
       "      <td>309.29</td>\n",
       "      <td>-0.417632</td>\n",
       "      <td>N/A</td>\n",
       "    </tr>\n",
       "    <tr>\n",
       "      <th>493</th>\n",
       "      <td>ZION</td>\n",
       "      <td>53.21</td>\n",
       "      <td>0.006668</td>\n",
       "      <td>N/A</td>\n",
       "    </tr>\n",
       "    <tr>\n",
       "      <th>494</th>\n",
       "      <td>ZTS</td>\n",
       "      <td>167.02</td>\n",
       "      <td>-0.132242</td>\n",
       "      <td>N/A</td>\n",
       "    </tr>\n",
       "  </tbody>\n",
       "</table>\n",
       "<p>495 rows × 4 columns</p>\n",
       "</div>"
      ],
      "text/plain": [
       "    Ticker   Price  One-Year Price Return #Shares to buy\n",
       "0        A  117.40              -0.226322            N/A\n",
       "1      AAL   13.60              -0.432962            N/A\n",
       "2      AAP  176.89              -0.115770            N/A\n",
       "3     AAPL  139.90               0.033275            N/A\n",
       "4     ABBV  148.44               0.316735            N/A\n",
       "..     ...     ...                    ...            ...\n",
       "490    YUM  115.97              -0.028298            N/A\n",
       "491    ZBH  109.34              -0.372407            N/A\n",
       "492   ZBRA  309.29              -0.417632            N/A\n",
       "493   ZION   53.21               0.006668            N/A\n",
       "494    ZTS  167.02              -0.132242            N/A\n",
       "\n",
       "[495 rows x 4 columns]"
      ]
     },
     "execution_count": 48,
     "metadata": {},
     "output_type": "execute_result"
    }
   ],
   "source": [
    "df"
   ]
  },
  {
   "cell_type": "code",
   "execution_count": null,
   "id": "38db45ce",
   "metadata": {},
   "outputs": [],
   "source": []
  }
 ],
 "metadata": {
  "kernelspec": {
   "display_name": "Python 3 (ipykernel)",
   "language": "python",
   "name": "python3"
  },
  "language_info": {
   "codemirror_mode": {
    "name": "ipython",
    "version": 3
   },
   "file_extension": ".py",
   "mimetype": "text/x-python",
   "name": "python",
   "nbconvert_exporter": "python",
   "pygments_lexer": "ipython3",
   "version": "3.9.12"
  }
 },
 "nbformat": 4,
 "nbformat_minor": 5
}
