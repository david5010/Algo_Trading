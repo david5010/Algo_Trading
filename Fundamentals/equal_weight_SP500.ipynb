{
 "cells": [
  {
   "cell_type": "code",
   "execution_count": 3,
   "id": "b6a51e72",
   "metadata": {},
   "outputs": [],
   "source": [
    "import numpy as np\n",
    "import pandas as pd\n",
    "import requests\n",
    "import xlsxwriter\n",
    "import math"
   ]
  },
  {
   "cell_type": "code",
   "execution_count": 30,
   "id": "fd598bcd",
   "metadata": {},
   "outputs": [],
   "source": [
    "stocks = pd.read_csv('sp_500_stocks.csv')"
   ]
  },
  {
   "cell_type": "code",
   "execution_count": 5,
   "id": "f6a28050",
   "metadata": {},
   "outputs": [],
   "source": [
    "from secrets import IEX_CLOUD_API_TOKEN"
   ]
  },
  {
   "cell_type": "code",
   "execution_count": 13,
   "id": "e9df35b3",
   "metadata": {},
   "outputs": [],
   "source": [
    "def get_stock_info(ticker):\n",
    "    api_url = f\"https://sandbox.iexapis.com/stable/stock/{ticker}/quote?token={IEX_CLOUD_API_TOKEN}\"\n",
    "    data = requests.get(api_url)\n",
    "    if data.status_code != 200:\n",
    "        return None\n",
    "    return data.json()\n",
    "    \n",
    "# symbol = 'AAPL'\n",
    "# api_url = f\"https://sandbox.iexapis.com/stable/stock/{symbol}/quote?token={IEX_CLOUD_API_TOKEN}\""
   ]
  },
  {
   "cell_type": "code",
   "execution_count": 25,
   "id": "34d854f5",
   "metadata": {},
   "outputs": [],
   "source": [
    "cols = ['Ticker', 'Stock Price', 'Market Cap', '#Shares to buy']\n",
    "dictionary = {col: list() for col in cols}"
   ]
  },
  {
   "cell_type": "code",
   "execution_count": 26,
   "id": "0de020ed",
   "metadata": {
    "scrolled": true
   },
   "outputs": [],
   "source": [
    "for sym in stocks['Ticker']:\n",
    "    data = get_stock_info(sym)\n",
    "    if data:\n",
    "        dictionary['Ticker'].append(sym)\n",
    "        dictionary['Stock Price'].append(data['latestPrice'])\n",
    "        dictionary['Market Cap'].append(data['marketCap'])\n",
    "        dictionary['#Shares to buy'].append('N/A')"
   ]
  },
  {
   "cell_type": "code",
   "execution_count": 28,
   "id": "69e75ff2",
   "metadata": {},
   "outputs": [],
   "source": [
    "df = pd.DataFrame(dictionary)"
   ]
  },
  {
   "cell_type": "code",
   "execution_count": 29,
   "id": "9e968ca6",
   "metadata": {},
   "outputs": [
    {
     "data": {
      "text/html": [
       "<div>\n",
       "<style scoped>\n",
       "    .dataframe tbody tr th:only-of-type {\n",
       "        vertical-align: middle;\n",
       "    }\n",
       "\n",
       "    .dataframe tbody tr th {\n",
       "        vertical-align: top;\n",
       "    }\n",
       "\n",
       "    .dataframe thead th {\n",
       "        text-align: right;\n",
       "    }\n",
       "</style>\n",
       "<table border=\"1\" class=\"dataframe\">\n",
       "  <thead>\n",
       "    <tr style=\"text-align: right;\">\n",
       "      <th></th>\n",
       "      <th>Ticker</th>\n",
       "      <th>Stock Price</th>\n",
       "      <th>Market Cap</th>\n",
       "      <th>#Shares to buy</th>\n",
       "    </tr>\n",
       "  </thead>\n",
       "  <tbody>\n",
       "    <tr>\n",
       "      <th>0</th>\n",
       "      <td>A</td>\n",
       "      <td>116.69</td>\n",
       "      <td>3.481776e+10</td>\n",
       "      <td>N/A</td>\n",
       "    </tr>\n",
       "    <tr>\n",
       "      <th>1</th>\n",
       "      <td>AAL</td>\n",
       "      <td>13.19</td>\n",
       "      <td>8.420363e+09</td>\n",
       "      <td>N/A</td>\n",
       "    </tr>\n",
       "    <tr>\n",
       "      <th>2</th>\n",
       "      <td>AAP</td>\n",
       "      <td>175.22</td>\n",
       "      <td>1.035976e+10</td>\n",
       "      <td>N/A</td>\n",
       "    </tr>\n",
       "    <tr>\n",
       "      <th>3</th>\n",
       "      <td>AAPL</td>\n",
       "      <td>132.28</td>\n",
       "      <td>2.217297e+12</td>\n",
       "      <td>N/A</td>\n",
       "    </tr>\n",
       "    <tr>\n",
       "      <th>4</th>\n",
       "      <td>ABBV</td>\n",
       "      <td>139.00</td>\n",
       "      <td>2.480638e+11</td>\n",
       "      <td>N/A</td>\n",
       "    </tr>\n",
       "    <tr>\n",
       "      <th>...</th>\n",
       "      <td>...</td>\n",
       "      <td>...</td>\n",
       "      <td>...</td>\n",
       "      <td>...</td>\n",
       "    </tr>\n",
       "    <tr>\n",
       "      <th>496</th>\n",
       "      <td>YUM</td>\n",
       "      <td>109.70</td>\n",
       "      <td>3.235926e+10</td>\n",
       "      <td>N/A</td>\n",
       "    </tr>\n",
       "    <tr>\n",
       "      <th>497</th>\n",
       "      <td>ZBH</td>\n",
       "      <td>103.10</td>\n",
       "      <td>2.252222e+10</td>\n",
       "      <td>N/A</td>\n",
       "    </tr>\n",
       "    <tr>\n",
       "      <th>498</th>\n",
       "      <td>ZBRA</td>\n",
       "      <td>293.17</td>\n",
       "      <td>1.541337e+10</td>\n",
       "      <td>N/A</td>\n",
       "    </tr>\n",
       "    <tr>\n",
       "      <th>499</th>\n",
       "      <td>ZION</td>\n",
       "      <td>53.15</td>\n",
       "      <td>8.252822e+09</td>\n",
       "      <td>N/A</td>\n",
       "    </tr>\n",
       "    <tr>\n",
       "      <th>500</th>\n",
       "      <td>ZTS</td>\n",
       "      <td>164.22</td>\n",
       "      <td>7.717293e+10</td>\n",
       "      <td>N/A</td>\n",
       "    </tr>\n",
       "  </tbody>\n",
       "</table>\n",
       "<p>501 rows × 4 columns</p>\n",
       "</div>"
      ],
      "text/plain": [
       "    Ticker  Stock Price    Market Cap #Shares to buy\n",
       "0        A       116.69  3.481776e+10            N/A\n",
       "1      AAL        13.19  8.420363e+09            N/A\n",
       "2      AAP       175.22  1.035976e+10            N/A\n",
       "3     AAPL       132.28  2.217297e+12            N/A\n",
       "4     ABBV       139.00  2.480638e+11            N/A\n",
       "..     ...          ...           ...            ...\n",
       "496    YUM       109.70  3.235926e+10            N/A\n",
       "497    ZBH       103.10  2.252222e+10            N/A\n",
       "498   ZBRA       293.17  1.541337e+10            N/A\n",
       "499   ZION        53.15  8.252822e+09            N/A\n",
       "500    ZTS       164.22  7.717293e+10            N/A\n",
       "\n",
       "[501 rows x 4 columns]"
      ]
     },
     "execution_count": 29,
     "metadata": {},
     "output_type": "execute_result"
    }
   ],
   "source": [
    "df"
   ]
  },
  {
   "cell_type": "markdown",
   "id": "8749533c",
   "metadata": {},
   "source": [
    "## Use Batch API calls"
   ]
  },
  {
   "cell_type": "code",
   "execution_count": 64,
   "id": "4c893af5",
   "metadata": {},
   "outputs": [],
   "source": [
    "cols = ['Ticker', 'Stock Price', 'Market Cap', '#Shares to buy']\n",
    "dictionary = {col: list() for col in cols}"
   ]
  },
  {
   "cell_type": "code",
   "execution_count": 65,
   "id": "08158766",
   "metadata": {},
   "outputs": [],
   "source": [
    "batches = [stocks[:86]['Ticker'], stocks[86: 192]['Ticker'], stocks[192:277]['Ticker'], stocks[277: 359]['Ticker'], stocks[359: 444]['Ticker'], stocks[444:]['Ticker']]"
   ]
  },
  {
   "cell_type": "code",
   "execution_count": 66,
   "id": "e18a6b26",
   "metadata": {},
   "outputs": [],
   "source": [
    "def batch_calls(tickers):\n",
    "    tickers = ','.join(list(tickers))\n",
    "    batch_url = f\"https://sandbox.iexapis.com/stable/stock//market/batch?symbols={tickers}&types=quote&token={IEX_CLOUD_API_TOKEN}\"\n",
    "    data = requests.get(batch_url)\n",
    "    if data.status_code != 200:\n",
    "        return None\n",
    "    return data.json()"
   ]
  },
  {
   "cell_type": "code",
   "execution_count": 67,
   "id": "5333a164",
   "metadata": {},
   "outputs": [],
   "source": [
    "\n",
    "for batch in batches:\n",
    "    data = batch_calls(batch)\n",
    "    \n",
    "    for ticker in batch:\n",
    "        if ticker in data:\n",
    "            dictionary['Ticker'].append(ticker)\n",
    "            dictionary['Stock Price'].append(data[ticker]['quote']['latestPrice'])\n",
    "            dictionary['Market Cap'].append(data[ticker]['quote']['marketCap'])\n",
    "            dictionary['#Shares to buy'].append('N/A')\n",
    "        "
   ]
  },
  {
   "cell_type": "code",
   "execution_count": 68,
   "id": "e48e90fa",
   "metadata": {},
   "outputs": [],
   "source": [
    "df = pd.DataFrame(dictionary)"
   ]
  },
  {
   "cell_type": "code",
   "execution_count": 77,
   "id": "0610b3ba",
   "metadata": {},
   "outputs": [],
   "source": [
    "portfolio_size = 10e6 # can change, just an example now\n",
    "# equal size at first, split it between all companies evenly\n",
    "capital_per_company = portfolio_size/df.shape[0]\n",
    "\n",
    "df['#Shares to buy'] = capital_per_company//df['Stock Price']"
   ]
  },
  {
   "cell_type": "code",
   "execution_count": null,
   "id": "209e78c5",
   "metadata": {},
   "outputs": [],
   "source": []
  },
  {
   "cell_type": "code",
   "execution_count": null,
   "id": "8140f7c6",
   "metadata": {},
   "outputs": [],
   "source": []
  }
 ],
 "metadata": {
  "kernelspec": {
   "display_name": "Python 3 (ipykernel)",
   "language": "python",
   "name": "python3"
  },
  "language_info": {
   "codemirror_mode": {
    "name": "ipython",
    "version": 3
   },
   "file_extension": ".py",
   "mimetype": "text/x-python",
   "name": "python",
   "nbconvert_exporter": "python",
   "pygments_lexer": "ipython3",
   "version": "3.9.12"
  }
 },
 "nbformat": 4,
 "nbformat_minor": 5
}
